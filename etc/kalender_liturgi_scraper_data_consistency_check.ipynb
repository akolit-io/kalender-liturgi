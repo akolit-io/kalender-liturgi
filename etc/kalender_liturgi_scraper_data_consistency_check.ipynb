{
  "nbformat": 4,
  "nbformat_minor": 0,
  "metadata": {
    "colab": {
      "name": "kalender_liturgi_scraper_data_consistency_check.ipynb",
      "provenance": [],
      "collapsed_sections": []
    },
    "kernelspec": {
      "name": "python3",
      "display_name": "Python 3"
    },
    "language_info": {
      "name": "python"
    }
  },
  "cells": [
    {
      "cell_type": "markdown",
      "source": [
        "## Kalender Liturgi Scraper Data Consistency Check\n",
        "\n",
        "check the consistency of scraped data by looking of the values that encountered and analyze, including look for uniqueness."
      ],
      "metadata": {
        "id": "f0wyAkCxywni"
      }
    },
    {
      "cell_type": "code",
      "execution_count": 1,
      "metadata": {
        "colab": {
          "base_uri": "https://localhost:8080/"
        },
        "id": "jNvKuCTZg2FH",
        "outputId": "503b4fe3-b601-407c-8da9-4677fcae99ed"
      },
      "outputs": [
        {
          "output_type": "stream",
          "name": "stdout",
          "text": [
            "fatal: destination path 'kalender-liturgi' already exists and is not an empty directory.\n",
            "./kalender-liturgi/api/v1/2021-08.json\t./kalender-liturgi/api/v1/2022-02.json\n",
            "./kalender-liturgi/api/v1/2021-09.json\t./kalender-liturgi/api/v1/2022-03.json\n",
            "./kalender-liturgi/api/v1/2021-10.json\t./kalender-liturgi/api/v1/2022-04.json\n",
            "./kalender-liturgi/api/v1/2021-11.json\t./kalender-liturgi/api/v1/2022-05.json\n",
            "./kalender-liturgi/api/v1/2021-12.json\t./kalender-liturgi/api/v1/2022-06.json\n",
            "./kalender-liturgi/api/v1/2022-01.json\n"
          ]
        }
      ],
      "source": [
        "import re\n",
        "import json\n",
        "import pandas as pd\n",
        "from functools import reduce\n",
        "\n",
        "# import files, directly from repo\n",
        "!git clone https://github.com/akolites/kalender-liturgi\n",
        "!ls ./kalender-liturgi/api/v1/202*.json"
      ]
    },
    {
      "cell_type": "code",
      "source": [
        "# create list of files\n",
        "json_files = !ls -l ./kalender-liturgi/api/v1/202*.json | awk '{print $9}'\n",
        "json_files"
      ],
      "metadata": {
        "colab": {
          "base_uri": "https://localhost:8080/"
        },
        "id": "-zCdMl3MhHgu",
        "outputId": "af383d20-e788-4dc4-b532-f96c641f3240"
      },
      "execution_count": 2,
      "outputs": [
        {
          "output_type": "execute_result",
          "data": {
            "text/plain": [
              "['./kalender-liturgi/api/v1/2021-08.json',\n",
              " './kalender-liturgi/api/v1/2021-09.json',\n",
              " './kalender-liturgi/api/v1/2021-10.json',\n",
              " './kalender-liturgi/api/v1/2021-11.json',\n",
              " './kalender-liturgi/api/v1/2021-12.json',\n",
              " './kalender-liturgi/api/v1/2022-01.json',\n",
              " './kalender-liturgi/api/v1/2022-02.json',\n",
              " './kalender-liturgi/api/v1/2022-03.json',\n",
              " './kalender-liturgi/api/v1/2022-04.json',\n",
              " './kalender-liturgi/api/v1/2022-05.json',\n",
              " './kalender-liturgi/api/v1/2022-06.json']"
            ]
          },
          "metadata": {},
          "execution_count": 2
        }
      ]
    },
    {
      "cell_type": "code",
      "source": [
        "# not to be confused with pd.read_json\n",
        "def read_json(path):\n",
        "  with open(path, 'r') as p:\n",
        "    return json.load(p)\n",
        "\n",
        "# read all json file and merge\n",
        "json_dfs = [pd.json_normalize(read_json(js)) for js in json_files]\n",
        "df = pd.concat(json_dfs, axis=0)\n",
        "\n",
        "df.head(5)"
      ],
      "metadata": {
        "colab": {
          "base_uri": "https://localhost:8080/",
          "height": 531
        },
        "id": "LEE0Gh9Phs24",
        "outputId": "d4cd0238-899b-450e-bd89-322322e9f6e4"
      },
      "execution_count": 3,
      "outputs": [
        {
          "output_type": "execute_result",
          "data": {
            "text/plain": [
              "                       date       localDate  \\\n",
              "0  2021-08-01T00:00:00.000Z  1 Agustus 2021   \n",
              "1  2021-08-02T00:00:00.000Z  2 Agustus 2021   \n",
              "2  2021-08-03T00:00:00.000Z  3 Agustus 2021   \n",
              "3  2021-08-04T00:00:00.000Z  4 Agustus 2021   \n",
              "4  2021-08-05T00:00:00.000Z  5 Agustus 2021   \n",
              "\n",
              "                                                url  \\\n",
              "0  https://www.imankatolik.or.id/kalender/1Agu.html   \n",
              "1  https://www.imankatolik.or.id/kalender/2Agu.html   \n",
              "2  https://www.imankatolik.or.id/kalender/3Agu.html   \n",
              "3  https://www.imankatolik.or.id/kalender/4Agu.html   \n",
              "4  https://www.imankatolik.or.id/kalender/5Agu.html   \n",
              "\n",
              "                                        name dayColor dayType  color  \\\n",
              "0                    Hari Minggu Biasa XVIII  #ff0000  minggu  hijau   \n",
              "1  Eusebius Vercelli, Petrus Yulianus Eymard  #000000   biasa  hijau   \n",
              "2                                 Hari Biasa  #000000   biasa  hijau   \n",
              "3     Peringatan Wajib Yohanes Maria Vianney  #000000   biasa  putih   \n",
              "4        Pemberkatan Gereja Basilik SP Maria  #000000   biasa  hijau   \n",
              "\n",
              "                                  readings.innerHTML  \\\n",
              "0  <a href=\"/alkitabq.php?q=Kel16:2-4;Kel16:12-15...   \n",
              "1  <a href=\"/alkitabq.php?q=Bil11:4-15;\" target=\"...   \n",
              "2  <a href=\"/alkitabq.php?q=Bil12:1-13;\" target=\"...   \n",
              "3  <a href=\"/alkitabq.php?q=Bil13:1-2;Bil13:25-99...   \n",
              "4  <a href=\"/alkitabq.php?q=Bil20:1-13;\" target=\"...   \n",
              "\n",
              "                                      readings.links  \n",
              "0  [{'url': 'https://www.imankatolik.or.id/alkita...  \n",
              "1  [{'url': 'https://www.imankatolik.or.id/alkita...  \n",
              "2  [{'url': 'https://www.imankatolik.or.id/alkita...  \n",
              "3  [{'url': 'https://www.imankatolik.or.id/alkita...  \n",
              "4  [{'url': 'https://www.imankatolik.or.id/alkita...  "
            ],
            "text/html": [
              "\n",
              "  <div id=\"df-4cf33ddd-dfc5-4574-8438-6428b9ab15be\">\n",
              "    <div class=\"colab-df-container\">\n",
              "      <div>\n",
              "<style scoped>\n",
              "    .dataframe tbody tr th:only-of-type {\n",
              "        vertical-align: middle;\n",
              "    }\n",
              "\n",
              "    .dataframe tbody tr th {\n",
              "        vertical-align: top;\n",
              "    }\n",
              "\n",
              "    .dataframe thead th {\n",
              "        text-align: right;\n",
              "    }\n",
              "</style>\n",
              "<table border=\"1\" class=\"dataframe\">\n",
              "  <thead>\n",
              "    <tr style=\"text-align: right;\">\n",
              "      <th></th>\n",
              "      <th>date</th>\n",
              "      <th>localDate</th>\n",
              "      <th>url</th>\n",
              "      <th>name</th>\n",
              "      <th>dayColor</th>\n",
              "      <th>dayType</th>\n",
              "      <th>color</th>\n",
              "      <th>readings.innerHTML</th>\n",
              "      <th>readings.links</th>\n",
              "    </tr>\n",
              "  </thead>\n",
              "  <tbody>\n",
              "    <tr>\n",
              "      <th>0</th>\n",
              "      <td>2021-08-01T00:00:00.000Z</td>\n",
              "      <td>1 Agustus 2021</td>\n",
              "      <td>https://www.imankatolik.or.id/kalender/1Agu.html</td>\n",
              "      <td>Hari Minggu Biasa XVIII</td>\n",
              "      <td>#ff0000</td>\n",
              "      <td>minggu</td>\n",
              "      <td>hijau</td>\n",
              "      <td>&lt;a href=\"/alkitabq.php?q=Kel16:2-4;Kel16:12-15...</td>\n",
              "      <td>[{'url': 'https://www.imankatolik.or.id/alkita...</td>\n",
              "    </tr>\n",
              "    <tr>\n",
              "      <th>1</th>\n",
              "      <td>2021-08-02T00:00:00.000Z</td>\n",
              "      <td>2 Agustus 2021</td>\n",
              "      <td>https://www.imankatolik.or.id/kalender/2Agu.html</td>\n",
              "      <td>Eusebius Vercelli, Petrus Yulianus Eymard</td>\n",
              "      <td>#000000</td>\n",
              "      <td>biasa</td>\n",
              "      <td>hijau</td>\n",
              "      <td>&lt;a href=\"/alkitabq.php?q=Bil11:4-15;\" target=\"...</td>\n",
              "      <td>[{'url': 'https://www.imankatolik.or.id/alkita...</td>\n",
              "    </tr>\n",
              "    <tr>\n",
              "      <th>2</th>\n",
              "      <td>2021-08-03T00:00:00.000Z</td>\n",
              "      <td>3 Agustus 2021</td>\n",
              "      <td>https://www.imankatolik.or.id/kalender/3Agu.html</td>\n",
              "      <td>Hari Biasa</td>\n",
              "      <td>#000000</td>\n",
              "      <td>biasa</td>\n",
              "      <td>hijau</td>\n",
              "      <td>&lt;a href=\"/alkitabq.php?q=Bil12:1-13;\" target=\"...</td>\n",
              "      <td>[{'url': 'https://www.imankatolik.or.id/alkita...</td>\n",
              "    </tr>\n",
              "    <tr>\n",
              "      <th>3</th>\n",
              "      <td>2021-08-04T00:00:00.000Z</td>\n",
              "      <td>4 Agustus 2021</td>\n",
              "      <td>https://www.imankatolik.or.id/kalender/4Agu.html</td>\n",
              "      <td>Peringatan Wajib Yohanes Maria Vianney</td>\n",
              "      <td>#000000</td>\n",
              "      <td>biasa</td>\n",
              "      <td>putih</td>\n",
              "      <td>&lt;a href=\"/alkitabq.php?q=Bil13:1-2;Bil13:25-99...</td>\n",
              "      <td>[{'url': 'https://www.imankatolik.or.id/alkita...</td>\n",
              "    </tr>\n",
              "    <tr>\n",
              "      <th>4</th>\n",
              "      <td>2021-08-05T00:00:00.000Z</td>\n",
              "      <td>5 Agustus 2021</td>\n",
              "      <td>https://www.imankatolik.or.id/kalender/5Agu.html</td>\n",
              "      <td>Pemberkatan Gereja Basilik SP Maria</td>\n",
              "      <td>#000000</td>\n",
              "      <td>biasa</td>\n",
              "      <td>hijau</td>\n",
              "      <td>&lt;a href=\"/alkitabq.php?q=Bil20:1-13;\" target=\"...</td>\n",
              "      <td>[{'url': 'https://www.imankatolik.or.id/alkita...</td>\n",
              "    </tr>\n",
              "  </tbody>\n",
              "</table>\n",
              "</div>\n",
              "      <button class=\"colab-df-convert\" onclick=\"convertToInteractive('df-4cf33ddd-dfc5-4574-8438-6428b9ab15be')\"\n",
              "              title=\"Convert this dataframe to an interactive table.\"\n",
              "              style=\"display:none;\">\n",
              "        \n",
              "  <svg xmlns=\"http://www.w3.org/2000/svg\" height=\"24px\"viewBox=\"0 0 24 24\"\n",
              "       width=\"24px\">\n",
              "    <path d=\"M0 0h24v24H0V0z\" fill=\"none\"/>\n",
              "    <path d=\"M18.56 5.44l.94 2.06.94-2.06 2.06-.94-2.06-.94-.94-2.06-.94 2.06-2.06.94zm-11 1L8.5 8.5l.94-2.06 2.06-.94-2.06-.94L8.5 2.5l-.94 2.06-2.06.94zm10 10l.94 2.06.94-2.06 2.06-.94-2.06-.94-.94-2.06-.94 2.06-2.06.94z\"/><path d=\"M17.41 7.96l-1.37-1.37c-.4-.4-.92-.59-1.43-.59-.52 0-1.04.2-1.43.59L10.3 9.45l-7.72 7.72c-.78.78-.78 2.05 0 2.83L4 21.41c.39.39.9.59 1.41.59.51 0 1.02-.2 1.41-.59l7.78-7.78 2.81-2.81c.8-.78.8-2.07 0-2.86zM5.41 20L4 18.59l7.72-7.72 1.47 1.35L5.41 20z\"/>\n",
              "  </svg>\n",
              "      </button>\n",
              "      \n",
              "  <style>\n",
              "    .colab-df-container {\n",
              "      display:flex;\n",
              "      flex-wrap:wrap;\n",
              "      gap: 12px;\n",
              "    }\n",
              "\n",
              "    .colab-df-convert {\n",
              "      background-color: #E8F0FE;\n",
              "      border: none;\n",
              "      border-radius: 50%;\n",
              "      cursor: pointer;\n",
              "      display: none;\n",
              "      fill: #1967D2;\n",
              "      height: 32px;\n",
              "      padding: 0 0 0 0;\n",
              "      width: 32px;\n",
              "    }\n",
              "\n",
              "    .colab-df-convert:hover {\n",
              "      background-color: #E2EBFA;\n",
              "      box-shadow: 0px 1px 2px rgba(60, 64, 67, 0.3), 0px 1px 3px 1px rgba(60, 64, 67, 0.15);\n",
              "      fill: #174EA6;\n",
              "    }\n",
              "\n",
              "    [theme=dark] .colab-df-convert {\n",
              "      background-color: #3B4455;\n",
              "      fill: #D2E3FC;\n",
              "    }\n",
              "\n",
              "    [theme=dark] .colab-df-convert:hover {\n",
              "      background-color: #434B5C;\n",
              "      box-shadow: 0px 1px 3px 1px rgba(0, 0, 0, 0.15);\n",
              "      filter: drop-shadow(0px 1px 2px rgba(0, 0, 0, 0.3));\n",
              "      fill: #FFFFFF;\n",
              "    }\n",
              "  </style>\n",
              "\n",
              "      <script>\n",
              "        const buttonEl =\n",
              "          document.querySelector('#df-4cf33ddd-dfc5-4574-8438-6428b9ab15be button.colab-df-convert');\n",
              "        buttonEl.style.display =\n",
              "          google.colab.kernel.accessAllowed ? 'block' : 'none';\n",
              "\n",
              "        async function convertToInteractive(key) {\n",
              "          const element = document.querySelector('#df-4cf33ddd-dfc5-4574-8438-6428b9ab15be');\n",
              "          const dataTable =\n",
              "            await google.colab.kernel.invokeFunction('convertToInteractive',\n",
              "                                                     [key], {});\n",
              "          if (!dataTable) return;\n",
              "\n",
              "          const docLinkHtml = 'Like what you see? Visit the ' +\n",
              "            '<a target=\"_blank\" href=https://colab.research.google.com/notebooks/data_table.ipynb>data table notebook</a>'\n",
              "            + ' to learn more about interactive tables.';\n",
              "          element.innerHTML = '';\n",
              "          dataTable['output_type'] = 'display_data';\n",
              "          await google.colab.output.renderOutput(dataTable, element);\n",
              "          const docLink = document.createElement('div');\n",
              "          docLink.innerHTML = docLinkHtml;\n",
              "          element.appendChild(docLink);\n",
              "        }\n",
              "      </script>\n",
              "    </div>\n",
              "  </div>\n",
              "  "
            ]
          },
          "metadata": {},
          "execution_count": 3
        }
      ]
    },
    {
      "cell_type": "code",
      "source": [
        "df.info()"
      ],
      "metadata": {
        "colab": {
          "base_uri": "https://localhost:8080/"
        },
        "id": "3S_KcqLYmQOz",
        "outputId": "a8e8613e-b65b-4a1b-a75c-dcc7a75fccd3"
      },
      "execution_count": 4,
      "outputs": [
        {
          "output_type": "stream",
          "name": "stdout",
          "text": [
            "<class 'pandas.core.frame.DataFrame'>\n",
            "Int64Index: 334 entries, 0 to 29\n",
            "Data columns (total 9 columns):\n",
            " #   Column              Non-Null Count  Dtype \n",
            "---  ------              --------------  ----- \n",
            " 0   date                334 non-null    object\n",
            " 1   localDate           334 non-null    object\n",
            " 2   url                 334 non-null    object\n",
            " 3   name                334 non-null    object\n",
            " 4   dayColor            334 non-null    object\n",
            " 5   dayType             334 non-null    object\n",
            " 6   color               334 non-null    object\n",
            " 7   readings.innerHTML  334 non-null    object\n",
            " 8   readings.links      334 non-null    object\n",
            "dtypes: object(9)\n",
            "memory usage: 26.1+ KB\n"
          ]
        }
      ]
    },
    {
      "cell_type": "code",
      "source": [
        "df.dayColor.unique()"
      ],
      "metadata": {
        "colab": {
          "base_uri": "https://localhost:8080/"
        },
        "id": "yIwyZcdBmSUv",
        "outputId": "2dab2478-aff3-4a75-9642-1fb22865f971"
      },
      "execution_count": 5,
      "outputs": [
        {
          "output_type": "execute_result",
          "data": {
            "text/plain": [
              "array(['#ff0000', '#000000', '#0000ff'], dtype=object)"
            ]
          },
          "metadata": {},
          "execution_count": 5
        }
      ]
    },
    {
      "cell_type": "code",
      "source": [
        "df.dayType.unique()"
      ],
      "metadata": {
        "colab": {
          "base_uri": "https://localhost:8080/"
        },
        "id": "EwfktdD3mZ8t",
        "outputId": "8c6cc7a5-aba2-49e9-c73a-bf2cbed2549b"
      },
      "execution_count": 6,
      "outputs": [
        {
          "output_type": "execute_result",
          "data": {
            "text/plain": [
              "array(['minggu', 'biasa', 'pesta', 'hariRaya'], dtype=object)"
            ]
          },
          "metadata": {},
          "execution_count": 6
        }
      ]
    },
    {
      "cell_type": "code",
      "source": [
        "df.color.unique() #v1.5"
      ],
      "metadata": {
        "colab": {
          "base_uri": "https://localhost:8080/"
        },
        "id": "xaZf-kkbmere",
        "outputId": "0e9f4f87-4432-4b00-dae5-cd370eb99bcf"
      },
      "execution_count": 7,
      "outputs": [
        {
          "output_type": "execute_result",
          "data": {
            "text/plain": [
              "array(['hijau', 'putih', 'merah', 'putih\\n', 'hijau\\n', 'ungu/hitam',\n",
              "       'ungu', 'ungu dan putih', '\\n\\nhijau', 'ungu/putih'], dtype=object)"
            ]
          },
          "metadata": {},
          "execution_count": 7
        }
      ]
    },
    {
      "cell_type": "code",
      "source": [
        "# ----------------------------------"
      ],
      "metadata": {
        "id": "zdNAV7kIqbpo"
      },
      "execution_count": 8,
      "outputs": []
    },
    {
      "cell_type": "code",
      "source": [
        "df['readings.links'].iloc[0]"
      ],
      "metadata": {
        "colab": {
          "base_uri": "https://localhost:8080/"
        },
        "id": "WwiIg1L9ovv4",
        "outputId": "906d8e9d-f0ed-4adb-a867-0654044b884e"
      },
      "execution_count": 9,
      "outputs": [
        {
          "output_type": "execute_result",
          "data": {
            "text/plain": [
              "[{'text': 'Kel. 16:2-4,12-15',\n",
              "  'url': 'https://www.imankatolik.or.id/alkitabq.php?q=Kel16:2-4;Kel16:12-15;'},\n",
              " {'text': 'Mzm. 78:3,4bc,23-24,25,54',\n",
              "  'url': 'https://www.imankatolik.or.id/alkitabq.php?q=Mzm78:3;Mzm78:4;Mzm78:23-24;Mzm78:25;Mzm78:54;'},\n",
              " {'text': 'Ef. 4:17.20-24',\n",
              "  'url': 'https://www.imankatolik.or.id/alkitabq.php?q=Ef4:17;Ef4:20-24;'},\n",
              " {'text': 'Yoh. 6:24-35',\n",
              "  'url': 'https://www.imankatolik.or.id/alkitabq.php?q=Yoh6:24-35;'},\n",
              " {'text': 'BcO 1Raj. 19:1-21',\n",
              "  'url': 'https://www.imankatolik.or.id/alkitabq.php?q=1Raj19:1-21;'}]"
            ]
          },
          "metadata": {},
          "execution_count": 9
        }
      ]
    },
    {
      "cell_type": "code",
      "source": [
        "readings_links_df = pd.DataFrame(reduce(lambda x,y: x+y, df['readings.links'].tolist()))\n",
        "readings_links_df"
      ],
      "metadata": {
        "colab": {
          "base_uri": "https://localhost:8080/",
          "height": 424
        },
        "id": "3WDXnvM7qZq2",
        "outputId": "10e7c2d9-18ed-43ba-b075-cece00994ec8"
      },
      "execution_count": 10,
      "outputs": [
        {
          "output_type": "execute_result",
          "data": {
            "text/plain": [
              "                                                    url  \\\n",
              "0     https://www.imankatolik.or.id/alkitabq.php?q=K...   \n",
              "1     https://www.imankatolik.or.id/alkitabq.php?q=M...   \n",
              "2     https://www.imankatolik.or.id/alkitabq.php?q=E...   \n",
              "3     https://www.imankatolik.or.id/alkitabq.php?q=Y...   \n",
              "4     https://www.imankatolik.or.id/alkitabq.php?q=1...   \n",
              "...                                                 ...   \n",
              "1435  https://www.imankatolik.or.id/alkitabq.php?q=G...   \n",
              "1436  https://www.imankatolik.or.id/alkitabq.php?q=A...   \n",
              "1437  https://www.imankatolik.or.id/alkitabq.php?q=M...   \n",
              "1438  https://www.imankatolik.or.id/alkitabq.php?q=M...   \n",
              "1439  https://www.imankatolik.or.id/alkitabq.php?q=N...   \n",
              "\n",
              "                           text  \n",
              "0             Kel. 16:2-4,12-15  \n",
              "1     Mzm. 78:3,4bc,23-24,25,54  \n",
              "2                Ef. 4:17.20-24  \n",
              "3                  Yoh. 6:24-35  \n",
              "4             BcO 1Raj. 19:1-21  \n",
              "...                         ...  \n",
              "1435         BcO Gal. 1:15-2:10  \n",
              "1436                Am. 7:10-17  \n",
              "1437          Mzm. 19:8,9,10,11  \n",
              "1438                 Mat. 9:1-8  \n",
              "1439           BcO Neh. 9:22-37  \n",
              "\n",
              "[1440 rows x 2 columns]"
            ],
            "text/html": [
              "\n",
              "  <div id=\"df-837477fb-9fca-4b7f-8337-1c3137aa7236\">\n",
              "    <div class=\"colab-df-container\">\n",
              "      <div>\n",
              "<style scoped>\n",
              "    .dataframe tbody tr th:only-of-type {\n",
              "        vertical-align: middle;\n",
              "    }\n",
              "\n",
              "    .dataframe tbody tr th {\n",
              "        vertical-align: top;\n",
              "    }\n",
              "\n",
              "    .dataframe thead th {\n",
              "        text-align: right;\n",
              "    }\n",
              "</style>\n",
              "<table border=\"1\" class=\"dataframe\">\n",
              "  <thead>\n",
              "    <tr style=\"text-align: right;\">\n",
              "      <th></th>\n",
              "      <th>url</th>\n",
              "      <th>text</th>\n",
              "    </tr>\n",
              "  </thead>\n",
              "  <tbody>\n",
              "    <tr>\n",
              "      <th>0</th>\n",
              "      <td>https://www.imankatolik.or.id/alkitabq.php?q=K...</td>\n",
              "      <td>Kel. 16:2-4,12-15</td>\n",
              "    </tr>\n",
              "    <tr>\n",
              "      <th>1</th>\n",
              "      <td>https://www.imankatolik.or.id/alkitabq.php?q=M...</td>\n",
              "      <td>Mzm. 78:3,4bc,23-24,25,54</td>\n",
              "    </tr>\n",
              "    <tr>\n",
              "      <th>2</th>\n",
              "      <td>https://www.imankatolik.or.id/alkitabq.php?q=E...</td>\n",
              "      <td>Ef. 4:17.20-24</td>\n",
              "    </tr>\n",
              "    <tr>\n",
              "      <th>3</th>\n",
              "      <td>https://www.imankatolik.or.id/alkitabq.php?q=Y...</td>\n",
              "      <td>Yoh. 6:24-35</td>\n",
              "    </tr>\n",
              "    <tr>\n",
              "      <th>4</th>\n",
              "      <td>https://www.imankatolik.or.id/alkitabq.php?q=1...</td>\n",
              "      <td>BcO 1Raj. 19:1-21</td>\n",
              "    </tr>\n",
              "    <tr>\n",
              "      <th>...</th>\n",
              "      <td>...</td>\n",
              "      <td>...</td>\n",
              "    </tr>\n",
              "    <tr>\n",
              "      <th>1435</th>\n",
              "      <td>https://www.imankatolik.or.id/alkitabq.php?q=G...</td>\n",
              "      <td>BcO Gal. 1:15-2:10</td>\n",
              "    </tr>\n",
              "    <tr>\n",
              "      <th>1436</th>\n",
              "      <td>https://www.imankatolik.or.id/alkitabq.php?q=A...</td>\n",
              "      <td>Am. 7:10-17</td>\n",
              "    </tr>\n",
              "    <tr>\n",
              "      <th>1437</th>\n",
              "      <td>https://www.imankatolik.or.id/alkitabq.php?q=M...</td>\n",
              "      <td>Mzm. 19:8,9,10,11</td>\n",
              "    </tr>\n",
              "    <tr>\n",
              "      <th>1438</th>\n",
              "      <td>https://www.imankatolik.or.id/alkitabq.php?q=M...</td>\n",
              "      <td>Mat. 9:1-8</td>\n",
              "    </tr>\n",
              "    <tr>\n",
              "      <th>1439</th>\n",
              "      <td>https://www.imankatolik.or.id/alkitabq.php?q=N...</td>\n",
              "      <td>BcO Neh. 9:22-37</td>\n",
              "    </tr>\n",
              "  </tbody>\n",
              "</table>\n",
              "<p>1440 rows × 2 columns</p>\n",
              "</div>\n",
              "      <button class=\"colab-df-convert\" onclick=\"convertToInteractive('df-837477fb-9fca-4b7f-8337-1c3137aa7236')\"\n",
              "              title=\"Convert this dataframe to an interactive table.\"\n",
              "              style=\"display:none;\">\n",
              "        \n",
              "  <svg xmlns=\"http://www.w3.org/2000/svg\" height=\"24px\"viewBox=\"0 0 24 24\"\n",
              "       width=\"24px\">\n",
              "    <path d=\"M0 0h24v24H0V0z\" fill=\"none\"/>\n",
              "    <path d=\"M18.56 5.44l.94 2.06.94-2.06 2.06-.94-2.06-.94-.94-2.06-.94 2.06-2.06.94zm-11 1L8.5 8.5l.94-2.06 2.06-.94-2.06-.94L8.5 2.5l-.94 2.06-2.06.94zm10 10l.94 2.06.94-2.06 2.06-.94-2.06-.94-.94-2.06-.94 2.06-2.06.94z\"/><path d=\"M17.41 7.96l-1.37-1.37c-.4-.4-.92-.59-1.43-.59-.52 0-1.04.2-1.43.59L10.3 9.45l-7.72 7.72c-.78.78-.78 2.05 0 2.83L4 21.41c.39.39.9.59 1.41.59.51 0 1.02-.2 1.41-.59l7.78-7.78 2.81-2.81c.8-.78.8-2.07 0-2.86zM5.41 20L4 18.59l7.72-7.72 1.47 1.35L5.41 20z\"/>\n",
              "  </svg>\n",
              "      </button>\n",
              "      \n",
              "  <style>\n",
              "    .colab-df-container {\n",
              "      display:flex;\n",
              "      flex-wrap:wrap;\n",
              "      gap: 12px;\n",
              "    }\n",
              "\n",
              "    .colab-df-convert {\n",
              "      background-color: #E8F0FE;\n",
              "      border: none;\n",
              "      border-radius: 50%;\n",
              "      cursor: pointer;\n",
              "      display: none;\n",
              "      fill: #1967D2;\n",
              "      height: 32px;\n",
              "      padding: 0 0 0 0;\n",
              "      width: 32px;\n",
              "    }\n",
              "\n",
              "    .colab-df-convert:hover {\n",
              "      background-color: #E2EBFA;\n",
              "      box-shadow: 0px 1px 2px rgba(60, 64, 67, 0.3), 0px 1px 3px 1px rgba(60, 64, 67, 0.15);\n",
              "      fill: #174EA6;\n",
              "    }\n",
              "\n",
              "    [theme=dark] .colab-df-convert {\n",
              "      background-color: #3B4455;\n",
              "      fill: #D2E3FC;\n",
              "    }\n",
              "\n",
              "    [theme=dark] .colab-df-convert:hover {\n",
              "      background-color: #434B5C;\n",
              "      box-shadow: 0px 1px 3px 1px rgba(0, 0, 0, 0.15);\n",
              "      filter: drop-shadow(0px 1px 2px rgba(0, 0, 0, 0.3));\n",
              "      fill: #FFFFFF;\n",
              "    }\n",
              "  </style>\n",
              "\n",
              "      <script>\n",
              "        const buttonEl =\n",
              "          document.querySelector('#df-837477fb-9fca-4b7f-8337-1c3137aa7236 button.colab-df-convert');\n",
              "        buttonEl.style.display =\n",
              "          google.colab.kernel.accessAllowed ? 'block' : 'none';\n",
              "\n",
              "        async function convertToInteractive(key) {\n",
              "          const element = document.querySelector('#df-837477fb-9fca-4b7f-8337-1c3137aa7236');\n",
              "          const dataTable =\n",
              "            await google.colab.kernel.invokeFunction('convertToInteractive',\n",
              "                                                     [key], {});\n",
              "          if (!dataTable) return;\n",
              "\n",
              "          const docLinkHtml = 'Like what you see? Visit the ' +\n",
              "            '<a target=\"_blank\" href=https://colab.research.google.com/notebooks/data_table.ipynb>data table notebook</a>'\n",
              "            + ' to learn more about interactive tables.';\n",
              "          element.innerHTML = '';\n",
              "          dataTable['output_type'] = 'display_data';\n",
              "          await google.colab.output.renderOutput(dataTable, element);\n",
              "          const docLink = document.createElement('div');\n",
              "          docLink.innerHTML = docLinkHtml;\n",
              "          element.appendChild(docLink);\n",
              "        }\n",
              "      </script>\n",
              "    </div>\n",
              "  </div>\n",
              "  "
            ]
          },
          "metadata": {},
          "execution_count": 10
        }
      ]
    },
    {
      "cell_type": "code",
      "source": [
        "links = readings_links_df.text.apply(lambda x: re.sub(' \\d.*', \"\", x.replace(\"BcO\", \"\")).strip())\n",
        "links.unique(), links"
      ],
      "metadata": {
        "colab": {
          "base_uri": "https://localhost:8080/"
        },
        "id": "cYL5OkxYvwcB",
        "outputId": "fb854011-2ebd-4449-ac39-b530718863b7"
      },
      "execution_count": 11,
      "outputs": [
        {
          "output_type": "execute_result",
          "data": {
            "text/plain": [
              "(array(['Kel.', 'Mzm.', 'Ef.', 'Yoh.', '', 'Bil.', 'Mat.', 'Dan.', '2 Ptr',\n",
              "        'Mrk.', 'Ul.', '1Raj.', '2Kor.', 'Kis.', 'Yos.', 'Sore', '1Kor.',\n",
              "        'Luk.', 'Why.', 'Hak.', 'Sir.', '1Ptr.', 'Gal.', 'Rut.', '1Tes.',\n",
              "        '. Ef.', 'Flm.', 'Yak.', 'Am.', 'Kol.', 'Yes.', 'Am', 'Mi.', 'Rm.',\n",
              "        'Kej.', 'Hos.', '1Tim.', 'Hos', 'Flp.', 'Ibr.', 'Mzm', 'Keb.',\n",
              "        'Ezr.', 'Yes', 'Hag.', 'Za.', 'MT Yer.', 'Why', 'Neh.', 'Bar.',\n",
              "        'Yun.', 'MT Yun.', 'Mal', 'Yl.', 'Zef.', 'Yer.', '2Tim.', 'Hab.',\n",
              "        'Yer', '1Yoh.', '2Mak.', 'Yeh.', '1Mak.', 'MT', 'Luk', 'MT Dan.',\n",
              "        'Mat', 'MT Yes.', 'Kid.', '1Sam.', 'Mal.', 'Pagi', 'Sore Yes.',\n",
              "        'Misa Yes.', 'Tit.', 'Siang Yes.', '2Sam.', 'BcE', 'Kej', 'Kis',\n",
              "        'Mrk', 'Gal', '1Kor', 'Kel', '1Ptr', 'Mrk.9:41-50', 'Im.', 'Est.',\n",
              "        '2Sam', 'Rm', 'Ibr', '2Raj.', 'Bil', 'BcP Luk', 'BcE Yes.', 'Rat.',\n",
              "        'Pagi Yes.', 'Sore Kel.', 'VIGILI Kej.', 'Bc2 Kej.', 'Bc3 Kel.',\n",
              "        'MT Kel.', 'Bc4 Yes.', 'Bc5 Yes.', 'Bc6 Bar.', 'Bc7 Yeh.',\n",
              "        'Epistola Rm.', 'Bc Luk.', 'sore Luk.', 'Yoh', 'Kol', 'Ef',\n",
              "        'Mzm.145:8-9,10-11,12-13ab', 'Zef', 'MT Yes', '-bcd Luk', 'Kid',\n",
              "        ':3 Yoh.', 'Flp', 'Ams.', '2Taw.', 'Neh', '1Raj', 'Sore Kis.',\n",
              "        'HARI Kis.'], dtype=object), 0       Kel.\n",
              " 1       Mzm.\n",
              " 2        Ef.\n",
              " 3       Yoh.\n",
              " 4           \n",
              "         ... \n",
              " 1435    Gal.\n",
              " 1436     Am.\n",
              " 1437    Mzm.\n",
              " 1438    Mat.\n",
              " 1439    Neh.\n",
              " Name: text, Length: 1440, dtype: object)"
            ]
          },
          "metadata": {},
          "execution_count": 11
        }
      ]
    },
    {
      "cell_type": "markdown",
      "source": [
        "there are kinds of incorrect parser in non-ordinary days,\n",
        "\n",
        "from above we could classify by:\n",
        "pagi, siang, sore\n",
        "\n",
        "others are : \n",
        "epistola, vigili, bc2-bcN\n",
        "\n",
        "those are need to be handled too : -bcd, HARI,"
      ],
      "metadata": {
        "id": "grgpqxUmxykM"
      }
    }
  ]
}